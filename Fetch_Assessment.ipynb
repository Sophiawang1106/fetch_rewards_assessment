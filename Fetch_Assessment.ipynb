{
 "cells": [
  {
   "cell_type": "markdown",
   "metadata": {},
   "source": [
    "# Import packages"
   ]
  },
  {
   "cell_type": "code",
   "execution_count": 573,
   "metadata": {},
   "outputs": [],
   "source": [
    "import json\n",
    "import pandas as pd\n",
    "import numpy as np\n",
    "from pandas import json_normalize\n",
    "import seaborn as sns\n",
    "import matplotlib.pyplot as plt\n",
    "import warnings\n",
    "warnings.filterwarnings('ignore')\n",
    "pd.set_option('display.max_columns', None)"
   ]
  },
  {
   "cell_type": "markdown",
   "metadata": {},
   "source": [
    "# Define common use functions for data parsing"
   ]
  },
  {
   "cell_type": "code",
   "execution_count": 232,
   "metadata": {},
   "outputs": [],
   "source": [
    "def flatten_dict(nested_dict, prefix = ''):\n",
    "    \"\"\"Flatten bested dictionary with custom prefix\"\"\"\n",
    "    flat_dict = {}\n",
    "    for key, value in nested_dict.items():\n",
    "        if isinstance(value, dict):\n",
    "            flat_dict.update(flatten_dict(value, f\"{prefix}{key}_\"))\n",
    "        else:\n",
    "            flat_dict[f\"{prefix}{key}\"] = value\n",
    "    return flat_dict\n",
    "\n",
    "def parse_nested_json_flatten(file_path):\n",
    "    \"\"\"Read and Faltten JSON lines\"\"\"\n",
    "    flat_records = []\n",
    "    with open(file_path, 'r', encoding='utf-8') as file:\n",
    "        for line in file:\n",
    "            if line.strip().startswith('{'):\n",
    "                record = json.loads(line.strip())\n",
    "                flat_records.append(flatten_dict(record))\n",
    "\n",
    "    return pd.DataFrame(flat_records)\n",
    "\n",
    "def process_receipt_items(df):\n",
    "    \"\"\"Process rewardsReceiptItemList from DataFrame into flattened DataFrame\"\"\"\n",
    "    items = []\n",
    "    for _, row in df.iterrows():\n",
    "        receipt_items = row.get('rewardsReceiptItemList')\n",
    "        if not isinstance(receipt_items, list):\n",
    "            continue\n",
    "        receipt_id = row['receiptId']\n",
    "        for item in receipt_items:\n",
    "            if isinstance(item, dict):\n",
    "                flat_item = flatten_dict(item)\n",
    "                flat_item['receiptId'] = receipt_id\n",
    "                items.append(flat_item)\n",
    "    return pd.DataFrame(items) if items else pd.DataFrame() "
   ]
  },
  {
   "cell_type": "markdown",
   "metadata": {},
   "source": [
    "# Process brands data from JSON into Pandas DataFrame"
   ]
  },
  {
   "cell_type": "code",
   "execution_count": 136,
   "metadata": {},
   "outputs": [],
   "source": [
    "# Read JSON into brands dataframe\n",
    "brands_df = parse_nested_json_flatten('brands.json')\n",
    "# Align column names and order with our data model for easy readability\n",
    "brands_df.columns = brands_df.columns.str.replace(r'[_$]', '', regex = True)\n",
    "brands_df = brands_df.rename(columns = {'idoid': 'brandId', 'cpgidoid': 'cpgOid', 'cpgref': 'cpgRef', 'name' : 'brandName'})\n",
    "brands_df = brands_df[['brandId'] + sorted([col for col in brands_df.columns if col != 'brandId'])]"
   ]
  },
  {
   "cell_type": "code",
   "execution_count": 234,
   "metadata": {},
   "outputs": [
    {
     "data": {
      "text/html": [
       "<div>\n",
       "<style scoped>\n",
       "    .dataframe tbody tr th:only-of-type {\n",
       "        vertical-align: middle;\n",
       "    }\n",
       "\n",
       "    .dataframe tbody tr th {\n",
       "        vertical-align: top;\n",
       "    }\n",
       "\n",
       "    .dataframe thead th {\n",
       "        text-align: right;\n",
       "    }\n",
       "</style>\n",
       "<table border=\"1\" class=\"dataframe\">\n",
       "  <thead>\n",
       "    <tr style=\"text-align: right;\">\n",
       "      <th></th>\n",
       "      <th>brandId</th>\n",
       "      <th>barcode</th>\n",
       "      <th>brandCode</th>\n",
       "      <th>brandName</th>\n",
       "      <th>category</th>\n",
       "      <th>categoryCode</th>\n",
       "      <th>cpgOid</th>\n",
       "      <th>cpgRef</th>\n",
       "      <th>topBrand</th>\n",
       "    </tr>\n",
       "  </thead>\n",
       "  <tbody>\n",
       "    <tr>\n",
       "      <th>0</th>\n",
       "      <td>601ac115be37ce2ead437551</td>\n",
       "      <td>511111019862</td>\n",
       "      <td>NaN</td>\n",
       "      <td>test brand @1612366101024</td>\n",
       "      <td>Baking</td>\n",
       "      <td>BAKING</td>\n",
       "      <td>601ac114be37ce2ead437550</td>\n",
       "      <td>Cogs</td>\n",
       "      <td>False</td>\n",
       "    </tr>\n",
       "    <tr>\n",
       "      <th>1</th>\n",
       "      <td>601c5460be37ce2ead43755f</td>\n",
       "      <td>511111519928</td>\n",
       "      <td>STARBUCKS</td>\n",
       "      <td>Starbucks</td>\n",
       "      <td>Beverages</td>\n",
       "      <td>BEVERAGES</td>\n",
       "      <td>5332f5fbe4b03c9a25efd0ba</td>\n",
       "      <td>Cogs</td>\n",
       "      <td>False</td>\n",
       "    </tr>\n",
       "    <tr>\n",
       "      <th>2</th>\n",
       "      <td>601ac142be37ce2ead43755d</td>\n",
       "      <td>511111819905</td>\n",
       "      <td>TEST BRANDCODE @1612366146176</td>\n",
       "      <td>test brand @1612366146176</td>\n",
       "      <td>Baking</td>\n",
       "      <td>BAKING</td>\n",
       "      <td>601ac142be37ce2ead437559</td>\n",
       "      <td>Cogs</td>\n",
       "      <td>False</td>\n",
       "    </tr>\n",
       "    <tr>\n",
       "      <th>3</th>\n",
       "      <td>601ac142be37ce2ead43755a</td>\n",
       "      <td>511111519874</td>\n",
       "      <td>TEST BRANDCODE @1612366146051</td>\n",
       "      <td>test brand @1612366146051</td>\n",
       "      <td>Baking</td>\n",
       "      <td>BAKING</td>\n",
       "      <td>601ac142be37ce2ead437559</td>\n",
       "      <td>Cogs</td>\n",
       "      <td>False</td>\n",
       "    </tr>\n",
       "    <tr>\n",
       "      <th>4</th>\n",
       "      <td>601ac142be37ce2ead43755e</td>\n",
       "      <td>511111319917</td>\n",
       "      <td>TEST BRANDCODE @1612366146827</td>\n",
       "      <td>test brand @1612366146827</td>\n",
       "      <td>Candy &amp; Sweets</td>\n",
       "      <td>CANDY_AND_SWEETS</td>\n",
       "      <td>5332fa12e4b03c9a25efd1e7</td>\n",
       "      <td>Cogs</td>\n",
       "      <td>False</td>\n",
       "    </tr>\n",
       "  </tbody>\n",
       "</table>\n",
       "</div>"
      ],
      "text/plain": [
       "                    brandId       barcode                      brandCode  \\\n",
       "0  601ac115be37ce2ead437551  511111019862                            NaN   \n",
       "1  601c5460be37ce2ead43755f  511111519928                      STARBUCKS   \n",
       "2  601ac142be37ce2ead43755d  511111819905  TEST BRANDCODE @1612366146176   \n",
       "3  601ac142be37ce2ead43755a  511111519874  TEST BRANDCODE @1612366146051   \n",
       "4  601ac142be37ce2ead43755e  511111319917  TEST BRANDCODE @1612366146827   \n",
       "\n",
       "                   brandName        category      categoryCode  \\\n",
       "0  test brand @1612366101024          Baking            BAKING   \n",
       "1                  Starbucks       Beverages         BEVERAGES   \n",
       "2  test brand @1612366146176          Baking            BAKING   \n",
       "3  test brand @1612366146051          Baking            BAKING   \n",
       "4  test brand @1612366146827  Candy & Sweets  CANDY_AND_SWEETS   \n",
       "\n",
       "                     cpgOid cpgRef topBrand  \n",
       "0  601ac114be37ce2ead437550   Cogs    False  \n",
       "1  5332f5fbe4b03c9a25efd0ba   Cogs    False  \n",
       "2  601ac142be37ce2ead437559   Cogs    False  \n",
       "3  601ac142be37ce2ead437559   Cogs    False  \n",
       "4  5332fa12e4b03c9a25efd1e7   Cogs    False  "
      ]
     },
     "execution_count": 234,
     "metadata": {},
     "output_type": "execute_result"
    }
   ],
   "source": [
    "brands_df.head()"
   ]
  },
  {
   "cell_type": "code",
   "execution_count": 150,
   "metadata": {},
   "outputs": [],
   "source": [
    "# Read JSON into user dataframe\n",
    "users_df = parse_nested_json_flatten('users.json')\n",
    "users_df.columns = users_df.columns.str.replace(r'[_$]', '', regex = True)\n",
    "users_df = users_df.rename(columns = {'idoid': 'userId', 'createdDatedate': 'createdDate', 'lastLogindate': 'lastLogin'})\n",
    "users_df = users_df[['userId'] + sorted([col for col in users_df.columns if col != 'userId'])]"
   ]
  },
  {
   "cell_type": "code",
   "execution_count": 236,
   "metadata": {},
   "outputs": [
    {
     "data": {
      "text/html": [
       "<div>\n",
       "<style scoped>\n",
       "    .dataframe tbody tr th:only-of-type {\n",
       "        vertical-align: middle;\n",
       "    }\n",
       "\n",
       "    .dataframe tbody tr th {\n",
       "        vertical-align: top;\n",
       "    }\n",
       "\n",
       "    .dataframe thead th {\n",
       "        text-align: right;\n",
       "    }\n",
       "</style>\n",
       "<table border=\"1\" class=\"dataframe\">\n",
       "  <thead>\n",
       "    <tr style=\"text-align: right;\">\n",
       "      <th></th>\n",
       "      <th>userId</th>\n",
       "      <th>active</th>\n",
       "      <th>createdDate</th>\n",
       "      <th>lastLoginDate</th>\n",
       "      <th>role</th>\n",
       "      <th>signUpSource</th>\n",
       "      <th>state</th>\n",
       "    </tr>\n",
       "  </thead>\n",
       "  <tbody>\n",
       "    <tr>\n",
       "      <th>0</th>\n",
       "      <td>5ff1e194b6a9d73a3a9f1052</td>\n",
       "      <td>True</td>\n",
       "      <td>1609687444800</td>\n",
       "      <td>1.609688e+12</td>\n",
       "      <td>consumer</td>\n",
       "      <td>Email</td>\n",
       "      <td>WI</td>\n",
       "    </tr>\n",
       "    <tr>\n",
       "      <th>1</th>\n",
       "      <td>5ff1e194b6a9d73a3a9f1052</td>\n",
       "      <td>True</td>\n",
       "      <td>1609687444800</td>\n",
       "      <td>1.609688e+12</td>\n",
       "      <td>consumer</td>\n",
       "      <td>Email</td>\n",
       "      <td>WI</td>\n",
       "    </tr>\n",
       "    <tr>\n",
       "      <th>2</th>\n",
       "      <td>5ff1e194b6a9d73a3a9f1052</td>\n",
       "      <td>True</td>\n",
       "      <td>1609687444800</td>\n",
       "      <td>1.609688e+12</td>\n",
       "      <td>consumer</td>\n",
       "      <td>Email</td>\n",
       "      <td>WI</td>\n",
       "    </tr>\n",
       "    <tr>\n",
       "      <th>3</th>\n",
       "      <td>5ff1e1eacfcf6c399c274ae6</td>\n",
       "      <td>True</td>\n",
       "      <td>1609687530554</td>\n",
       "      <td>1.609688e+12</td>\n",
       "      <td>consumer</td>\n",
       "      <td>Email</td>\n",
       "      <td>WI</td>\n",
       "    </tr>\n",
       "    <tr>\n",
       "      <th>4</th>\n",
       "      <td>5ff1e194b6a9d73a3a9f1052</td>\n",
       "      <td>True</td>\n",
       "      <td>1609687444800</td>\n",
       "      <td>1.609688e+12</td>\n",
       "      <td>consumer</td>\n",
       "      <td>Email</td>\n",
       "      <td>WI</td>\n",
       "    </tr>\n",
       "  </tbody>\n",
       "</table>\n",
       "</div>"
      ],
      "text/plain": [
       "                     userId  active    createdDate  lastLoginDate      role  \\\n",
       "0  5ff1e194b6a9d73a3a9f1052    True  1609687444800   1.609688e+12  consumer   \n",
       "1  5ff1e194b6a9d73a3a9f1052    True  1609687444800   1.609688e+12  consumer   \n",
       "2  5ff1e194b6a9d73a3a9f1052    True  1609687444800   1.609688e+12  consumer   \n",
       "3  5ff1e1eacfcf6c399c274ae6    True  1609687530554   1.609688e+12  consumer   \n",
       "4  5ff1e194b6a9d73a3a9f1052    True  1609687444800   1.609688e+12  consumer   \n",
       "\n",
       "  signUpSource state  \n",
       "0        Email    WI  \n",
       "1        Email    WI  \n",
       "2        Email    WI  \n",
       "3        Email    WI  \n",
       "4        Email    WI  "
      ]
     },
     "execution_count": 236,
     "metadata": {},
     "output_type": "execute_result"
    }
   ],
   "source": [
    "users_df.head()"
   ]
  },
  {
   "cell_type": "code",
   "execution_count": 563,
   "metadata": {},
   "outputs": [],
   "source": [
    "# Read JSON into receipts dataframe\n",
    "receipts_df = parse_nested_json_flatten('receipts.json')\n",
    "receipts_df.columns = receipts_df.columns.str.replace(r'[_$]', '', regex = True)\n",
    "receipts_df = receipts_df.rename(columns = {'idoid': 'receiptId', 'createDatedate': 'createDate', 'dateScanneddate': 'dateScanned', 'finishedDatedate': 'finishedDate', 'modifyDatedate': 'modifyDate', 'purchaseDatedate':'purchaseDate','pointsAwardedDatedate':'pointsAwardedDate'})\n",
    "receipts_df = receipts_df[['receiptId'] + sorted([col for col in receipts_df.columns if col != 'receiptId'])]\n",
    "\n",
    "# Note that we don't need rewardsReceiptItemList inside this table since it will have its own table based on my data model design."
   ]
  },
  {
   "cell_type": "code",
   "execution_count": 565,
   "metadata": {},
   "outputs": [
    {
     "data": {
      "text/html": [
       "<div>\n",
       "<style scoped>\n",
       "    .dataframe tbody tr th:only-of-type {\n",
       "        vertical-align: middle;\n",
       "    }\n",
       "\n",
       "    .dataframe tbody tr th {\n",
       "        vertical-align: top;\n",
       "    }\n",
       "\n",
       "    .dataframe thead th {\n",
       "        text-align: right;\n",
       "    }\n",
       "</style>\n",
       "<table border=\"1\" class=\"dataframe\">\n",
       "  <thead>\n",
       "    <tr style=\"text-align: right;\">\n",
       "      <th></th>\n",
       "      <th>receiptId</th>\n",
       "      <th>bonusPointsEarned</th>\n",
       "      <th>bonusPointsEarnedReason</th>\n",
       "      <th>createDate</th>\n",
       "      <th>dateScanned</th>\n",
       "      <th>finishedDate</th>\n",
       "      <th>modifyDate</th>\n",
       "      <th>pointsAwardedDate</th>\n",
       "      <th>pointsEarned</th>\n",
       "      <th>purchaseDate</th>\n",
       "      <th>purchasedItemCount</th>\n",
       "      <th>rewardsReceiptItemList</th>\n",
       "      <th>rewardsReceiptStatus</th>\n",
       "      <th>totalSpent</th>\n",
       "      <th>userId</th>\n",
       "    </tr>\n",
       "  </thead>\n",
       "  <tbody>\n",
       "    <tr>\n",
       "      <th>0</th>\n",
       "      <td>5ff1e1eb0a720f0523000575</td>\n",
       "      <td>500.0</td>\n",
       "      <td>Receipt number 2 completed, bonus point schedu...</td>\n",
       "      <td>1609687531000</td>\n",
       "      <td>1609687531000</td>\n",
       "      <td>1.609688e+12</td>\n",
       "      <td>1609687536000</td>\n",
       "      <td>1.609688e+12</td>\n",
       "      <td>500.0</td>\n",
       "      <td>1.609632e+12</td>\n",
       "      <td>5.0</td>\n",
       "      <td>[{'barcode': '4011', 'description': 'ITEM NOT ...</td>\n",
       "      <td>FINISHED</td>\n",
       "      <td>26.00</td>\n",
       "      <td>5ff1e1eacfcf6c399c274ae6</td>\n",
       "    </tr>\n",
       "    <tr>\n",
       "      <th>1</th>\n",
       "      <td>5ff1e1bb0a720f052300056b</td>\n",
       "      <td>150.0</td>\n",
       "      <td>Receipt number 5 completed, bonus point schedu...</td>\n",
       "      <td>1609687483000</td>\n",
       "      <td>1609687483000</td>\n",
       "      <td>1.609687e+12</td>\n",
       "      <td>1609687488000</td>\n",
       "      <td>1.609687e+12</td>\n",
       "      <td>150.0</td>\n",
       "      <td>1.609601e+12</td>\n",
       "      <td>2.0</td>\n",
       "      <td>[{'barcode': '4011', 'description': 'ITEM NOT ...</td>\n",
       "      <td>FINISHED</td>\n",
       "      <td>11.00</td>\n",
       "      <td>5ff1e194b6a9d73a3a9f1052</td>\n",
       "    </tr>\n",
       "    <tr>\n",
       "      <th>2</th>\n",
       "      <td>5ff1e1f10a720f052300057a</td>\n",
       "      <td>5.0</td>\n",
       "      <td>All-receipts receipt bonus</td>\n",
       "      <td>1609687537000</td>\n",
       "      <td>1609687537000</td>\n",
       "      <td>NaN</td>\n",
       "      <td>1609687542000</td>\n",
       "      <td>NaN</td>\n",
       "      <td>5</td>\n",
       "      <td>1.609632e+12</td>\n",
       "      <td>1.0</td>\n",
       "      <td>[{'needsFetchReview': False, 'partnerItemId': ...</td>\n",
       "      <td>REJECTED</td>\n",
       "      <td>10.00</td>\n",
       "      <td>5ff1e1f1cfcf6c399c274b0b</td>\n",
       "    </tr>\n",
       "    <tr>\n",
       "      <th>3</th>\n",
       "      <td>5ff1e1ee0a7214ada100056f</td>\n",
       "      <td>5.0</td>\n",
       "      <td>All-receipts receipt bonus</td>\n",
       "      <td>1609687534000</td>\n",
       "      <td>1609687534000</td>\n",
       "      <td>1.609688e+12</td>\n",
       "      <td>1609687539000</td>\n",
       "      <td>1.609688e+12</td>\n",
       "      <td>5.0</td>\n",
       "      <td>1.609632e+12</td>\n",
       "      <td>4.0</td>\n",
       "      <td>[{'barcode': '4011', 'description': 'ITEM NOT ...</td>\n",
       "      <td>FINISHED</td>\n",
       "      <td>28.00</td>\n",
       "      <td>5ff1e1eacfcf6c399c274ae6</td>\n",
       "    </tr>\n",
       "    <tr>\n",
       "      <th>4</th>\n",
       "      <td>5ff1e1d20a7214ada1000561</td>\n",
       "      <td>5.0</td>\n",
       "      <td>All-receipts receipt bonus</td>\n",
       "      <td>1609687506000</td>\n",
       "      <td>1609687506000</td>\n",
       "      <td>1.609688e+12</td>\n",
       "      <td>1609687511000</td>\n",
       "      <td>1.609688e+12</td>\n",
       "      <td>5.0</td>\n",
       "      <td>1.609601e+12</td>\n",
       "      <td>2.0</td>\n",
       "      <td>[{'barcode': '4011', 'description': 'ITEM NOT ...</td>\n",
       "      <td>FINISHED</td>\n",
       "      <td>1.00</td>\n",
       "      <td>5ff1e194b6a9d73a3a9f1052</td>\n",
       "    </tr>\n",
       "  </tbody>\n",
       "</table>\n",
       "</div>"
      ],
      "text/plain": [
       "                  receiptId  bonusPointsEarned  \\\n",
       "0  5ff1e1eb0a720f0523000575              500.0   \n",
       "1  5ff1e1bb0a720f052300056b              150.0   \n",
       "2  5ff1e1f10a720f052300057a                5.0   \n",
       "3  5ff1e1ee0a7214ada100056f                5.0   \n",
       "4  5ff1e1d20a7214ada1000561                5.0   \n",
       "\n",
       "                             bonusPointsEarnedReason     createDate  \\\n",
       "0  Receipt number 2 completed, bonus point schedu...  1609687531000   \n",
       "1  Receipt number 5 completed, bonus point schedu...  1609687483000   \n",
       "2                         All-receipts receipt bonus  1609687537000   \n",
       "3                         All-receipts receipt bonus  1609687534000   \n",
       "4                         All-receipts receipt bonus  1609687506000   \n",
       "\n",
       "     dateScanned  finishedDate     modifyDate  pointsAwardedDate pointsEarned  \\\n",
       "0  1609687531000  1.609688e+12  1609687536000       1.609688e+12        500.0   \n",
       "1  1609687483000  1.609687e+12  1609687488000       1.609687e+12        150.0   \n",
       "2  1609687537000           NaN  1609687542000                NaN            5   \n",
       "3  1609687534000  1.609688e+12  1609687539000       1.609688e+12          5.0   \n",
       "4  1609687506000  1.609688e+12  1609687511000       1.609688e+12          5.0   \n",
       "\n",
       "   purchaseDate  purchasedItemCount  \\\n",
       "0  1.609632e+12                 5.0   \n",
       "1  1.609601e+12                 2.0   \n",
       "2  1.609632e+12                 1.0   \n",
       "3  1.609632e+12                 4.0   \n",
       "4  1.609601e+12                 2.0   \n",
       "\n",
       "                              rewardsReceiptItemList rewardsReceiptStatus  \\\n",
       "0  [{'barcode': '4011', 'description': 'ITEM NOT ...             FINISHED   \n",
       "1  [{'barcode': '4011', 'description': 'ITEM NOT ...             FINISHED   \n",
       "2  [{'needsFetchReview': False, 'partnerItemId': ...             REJECTED   \n",
       "3  [{'barcode': '4011', 'description': 'ITEM NOT ...             FINISHED   \n",
       "4  [{'barcode': '4011', 'description': 'ITEM NOT ...             FINISHED   \n",
       "\n",
       "  totalSpent                    userId  \n",
       "0      26.00  5ff1e1eacfcf6c399c274ae6  \n",
       "1      11.00  5ff1e194b6a9d73a3a9f1052  \n",
       "2      10.00  5ff1e1f1cfcf6c399c274b0b  \n",
       "3      28.00  5ff1e1eacfcf6c399c274ae6  \n",
       "4       1.00  5ff1e194b6a9d73a3a9f1052  "
      ]
     },
     "execution_count": 565,
     "metadata": {},
     "output_type": "execute_result"
    }
   ],
   "source": [
    "receipts_df.head()"
   ]
  },
  {
   "cell_type": "code",
   "execution_count": 188,
   "metadata": {},
   "outputs": [],
   "source": [
    "# Read reward item column into its own dataframe\n",
    "items_df = process_receipt_items(receipts_df)\n",
    "items_df = items_df[['receiptId'] + ['barcode'] + sorted([col for col in items_df.columns if col not in ['receiptId','barcode']])]"
   ]
  },
  {
   "cell_type": "code",
   "execution_count": 240,
   "metadata": {},
   "outputs": [
    {
     "data": {
      "text/html": [
       "<div>\n",
       "<style scoped>\n",
       "    .dataframe tbody tr th:only-of-type {\n",
       "        vertical-align: middle;\n",
       "    }\n",
       "\n",
       "    .dataframe tbody tr th {\n",
       "        vertical-align: top;\n",
       "    }\n",
       "\n",
       "    .dataframe thead th {\n",
       "        text-align: right;\n",
       "    }\n",
       "</style>\n",
       "<table border=\"1\" class=\"dataframe\">\n",
       "  <thead>\n",
       "    <tr style=\"text-align: right;\">\n",
       "      <th></th>\n",
       "      <th>receiptId</th>\n",
       "      <th>barcode</th>\n",
       "      <th>brandCode</th>\n",
       "      <th>competitiveProduct</th>\n",
       "      <th>competitorRewardsGroup</th>\n",
       "      <th>deleted</th>\n",
       "      <th>description</th>\n",
       "      <th>discountedItemPrice</th>\n",
       "      <th>finalPrice</th>\n",
       "      <th>itemNumber</th>\n",
       "      <th>itemPrice</th>\n",
       "      <th>metabriteCampaignId</th>\n",
       "      <th>needsFetchReview</th>\n",
       "      <th>needsFetchReviewReason</th>\n",
       "      <th>originalFinalPrice</th>\n",
       "      <th>originalMetaBriteBarcode</th>\n",
       "      <th>originalMetaBriteDescription</th>\n",
       "      <th>originalMetaBriteItemPrice</th>\n",
       "      <th>originalMetaBriteQuantityPurchased</th>\n",
       "      <th>originalReceiptItemText</th>\n",
       "      <th>partnerItemId</th>\n",
       "      <th>pointsEarned</th>\n",
       "      <th>pointsNotAwardedReason</th>\n",
       "      <th>pointsPayerId</th>\n",
       "      <th>preventTargetGapPoints</th>\n",
       "      <th>priceAfterCoupon</th>\n",
       "      <th>quantityPurchased</th>\n",
       "      <th>rewardsGroup</th>\n",
       "      <th>rewardsProductPartnerId</th>\n",
       "      <th>targetPrice</th>\n",
       "      <th>userFlaggedBarcode</th>\n",
       "      <th>userFlaggedDescription</th>\n",
       "      <th>userFlaggedNewItem</th>\n",
       "      <th>userFlaggedPrice</th>\n",
       "      <th>userFlaggedQuantity</th>\n",
       "    </tr>\n",
       "  </thead>\n",
       "  <tbody>\n",
       "    <tr>\n",
       "      <th>0</th>\n",
       "      <td>5ff1e1eb0a720f0523000575</td>\n",
       "      <td>4011</td>\n",
       "      <td>NaN</td>\n",
       "      <td>NaN</td>\n",
       "      <td>NaN</td>\n",
       "      <td>NaN</td>\n",
       "      <td>ITEM NOT FOUND</td>\n",
       "      <td>NaN</td>\n",
       "      <td>26.00</td>\n",
       "      <td>NaN</td>\n",
       "      <td>26.00</td>\n",
       "      <td>NaN</td>\n",
       "      <td>False</td>\n",
       "      <td>NaN</td>\n",
       "      <td>NaN</td>\n",
       "      <td>NaN</td>\n",
       "      <td>NaN</td>\n",
       "      <td>NaN</td>\n",
       "      <td>NaN</td>\n",
       "      <td>NaN</td>\n",
       "      <td>1</td>\n",
       "      <td>NaN</td>\n",
       "      <td>NaN</td>\n",
       "      <td>NaN</td>\n",
       "      <td>True</td>\n",
       "      <td>NaN</td>\n",
       "      <td>5.0</td>\n",
       "      <td>NaN</td>\n",
       "      <td>NaN</td>\n",
       "      <td>NaN</td>\n",
       "      <td>4011</td>\n",
       "      <td>NaN</td>\n",
       "      <td>True</td>\n",
       "      <td>26.00</td>\n",
       "      <td>5.0</td>\n",
       "    </tr>\n",
       "    <tr>\n",
       "      <th>1</th>\n",
       "      <td>5ff1e1bb0a720f052300056b</td>\n",
       "      <td>4011</td>\n",
       "      <td>NaN</td>\n",
       "      <td>NaN</td>\n",
       "      <td>NaN</td>\n",
       "      <td>NaN</td>\n",
       "      <td>ITEM NOT FOUND</td>\n",
       "      <td>NaN</td>\n",
       "      <td>1</td>\n",
       "      <td>NaN</td>\n",
       "      <td>1</td>\n",
       "      <td>NaN</td>\n",
       "      <td>NaN</td>\n",
       "      <td>NaN</td>\n",
       "      <td>NaN</td>\n",
       "      <td>NaN</td>\n",
       "      <td>NaN</td>\n",
       "      <td>NaN</td>\n",
       "      <td>NaN</td>\n",
       "      <td>NaN</td>\n",
       "      <td>1</td>\n",
       "      <td>NaN</td>\n",
       "      <td>NaN</td>\n",
       "      <td>NaN</td>\n",
       "      <td>NaN</td>\n",
       "      <td>NaN</td>\n",
       "      <td>1.0</td>\n",
       "      <td>NaN</td>\n",
       "      <td>NaN</td>\n",
       "      <td>NaN</td>\n",
       "      <td>NaN</td>\n",
       "      <td>NaN</td>\n",
       "      <td>NaN</td>\n",
       "      <td>NaN</td>\n",
       "      <td>NaN</td>\n",
       "    </tr>\n",
       "    <tr>\n",
       "      <th>2</th>\n",
       "      <td>5ff1e1bb0a720f052300056b</td>\n",
       "      <td>028400642255</td>\n",
       "      <td>NaN</td>\n",
       "      <td>NaN</td>\n",
       "      <td>NaN</td>\n",
       "      <td>NaN</td>\n",
       "      <td>DORITOS TORTILLA CHIP SPICY SWEET CHILI REDUCE...</td>\n",
       "      <td>NaN</td>\n",
       "      <td>10.00</td>\n",
       "      <td>NaN</td>\n",
       "      <td>10.00</td>\n",
       "      <td>NaN</td>\n",
       "      <td>True</td>\n",
       "      <td>USER_FLAGGED</td>\n",
       "      <td>NaN</td>\n",
       "      <td>NaN</td>\n",
       "      <td>NaN</td>\n",
       "      <td>NaN</td>\n",
       "      <td>NaN</td>\n",
       "      <td>NaN</td>\n",
       "      <td>2</td>\n",
       "      <td>NaN</td>\n",
       "      <td>Action not allowed for user and CPG</td>\n",
       "      <td>5332f5fbe4b03c9a25efd0ba</td>\n",
       "      <td>True</td>\n",
       "      <td>NaN</td>\n",
       "      <td>1.0</td>\n",
       "      <td>DORITOS SPICY SWEET CHILI SINGLE SERVE</td>\n",
       "      <td>5332f5fbe4b03c9a25efd0ba</td>\n",
       "      <td>NaN</td>\n",
       "      <td>028400642255</td>\n",
       "      <td>DORITOS TORTILLA CHIP SPICY SWEET CHILI REDUCE...</td>\n",
       "      <td>True</td>\n",
       "      <td>10.00</td>\n",
       "      <td>1.0</td>\n",
       "    </tr>\n",
       "    <tr>\n",
       "      <th>3</th>\n",
       "      <td>5ff1e1f10a720f052300057a</td>\n",
       "      <td>NaN</td>\n",
       "      <td>NaN</td>\n",
       "      <td>NaN</td>\n",
       "      <td>NaN</td>\n",
       "      <td>NaN</td>\n",
       "      <td>NaN</td>\n",
       "      <td>NaN</td>\n",
       "      <td>NaN</td>\n",
       "      <td>NaN</td>\n",
       "      <td>NaN</td>\n",
       "      <td>NaN</td>\n",
       "      <td>False</td>\n",
       "      <td>NaN</td>\n",
       "      <td>NaN</td>\n",
       "      <td>NaN</td>\n",
       "      <td>NaN</td>\n",
       "      <td>NaN</td>\n",
       "      <td>NaN</td>\n",
       "      <td>NaN</td>\n",
       "      <td>1</td>\n",
       "      <td>NaN</td>\n",
       "      <td>NaN</td>\n",
       "      <td>NaN</td>\n",
       "      <td>True</td>\n",
       "      <td>NaN</td>\n",
       "      <td>NaN</td>\n",
       "      <td>NaN</td>\n",
       "      <td>NaN</td>\n",
       "      <td>NaN</td>\n",
       "      <td>4011</td>\n",
       "      <td>NaN</td>\n",
       "      <td>True</td>\n",
       "      <td>26.00</td>\n",
       "      <td>3.0</td>\n",
       "    </tr>\n",
       "    <tr>\n",
       "      <th>4</th>\n",
       "      <td>5ff1e1ee0a7214ada100056f</td>\n",
       "      <td>4011</td>\n",
       "      <td>NaN</td>\n",
       "      <td>NaN</td>\n",
       "      <td>NaN</td>\n",
       "      <td>NaN</td>\n",
       "      <td>ITEM NOT FOUND</td>\n",
       "      <td>NaN</td>\n",
       "      <td>28.00</td>\n",
       "      <td>NaN</td>\n",
       "      <td>28.00</td>\n",
       "      <td>NaN</td>\n",
       "      <td>False</td>\n",
       "      <td>NaN</td>\n",
       "      <td>NaN</td>\n",
       "      <td>NaN</td>\n",
       "      <td>NaN</td>\n",
       "      <td>NaN</td>\n",
       "      <td>NaN</td>\n",
       "      <td>NaN</td>\n",
       "      <td>1</td>\n",
       "      <td>NaN</td>\n",
       "      <td>NaN</td>\n",
       "      <td>NaN</td>\n",
       "      <td>True</td>\n",
       "      <td>NaN</td>\n",
       "      <td>4.0</td>\n",
       "      <td>NaN</td>\n",
       "      <td>NaN</td>\n",
       "      <td>NaN</td>\n",
       "      <td>4011</td>\n",
       "      <td>NaN</td>\n",
       "      <td>True</td>\n",
       "      <td>28.00</td>\n",
       "      <td>4.0</td>\n",
       "    </tr>\n",
       "  </tbody>\n",
       "</table>\n",
       "</div>"
      ],
      "text/plain": [
       "                  receiptId       barcode brandCode competitiveProduct  \\\n",
       "0  5ff1e1eb0a720f0523000575          4011       NaN                NaN   \n",
       "1  5ff1e1bb0a720f052300056b          4011       NaN                NaN   \n",
       "2  5ff1e1bb0a720f052300056b  028400642255       NaN                NaN   \n",
       "3  5ff1e1f10a720f052300057a           NaN       NaN                NaN   \n",
       "4  5ff1e1ee0a7214ada100056f          4011       NaN                NaN   \n",
       "\n",
       "  competitorRewardsGroup deleted  \\\n",
       "0                    NaN     NaN   \n",
       "1                    NaN     NaN   \n",
       "2                    NaN     NaN   \n",
       "3                    NaN     NaN   \n",
       "4                    NaN     NaN   \n",
       "\n",
       "                                         description discountedItemPrice  \\\n",
       "0                                     ITEM NOT FOUND                 NaN   \n",
       "1                                     ITEM NOT FOUND                 NaN   \n",
       "2  DORITOS TORTILLA CHIP SPICY SWEET CHILI REDUCE...                 NaN   \n",
       "3                                                NaN                 NaN   \n",
       "4                                     ITEM NOT FOUND                 NaN   \n",
       "\n",
       "  finalPrice itemNumber itemPrice metabriteCampaignId needsFetchReview  \\\n",
       "0      26.00        NaN     26.00                 NaN            False   \n",
       "1          1        NaN         1                 NaN              NaN   \n",
       "2      10.00        NaN     10.00                 NaN             True   \n",
       "3        NaN        NaN       NaN                 NaN            False   \n",
       "4      28.00        NaN     28.00                 NaN            False   \n",
       "\n",
       "  needsFetchReviewReason originalFinalPrice originalMetaBriteBarcode  \\\n",
       "0                    NaN                NaN                      NaN   \n",
       "1                    NaN                NaN                      NaN   \n",
       "2           USER_FLAGGED                NaN                      NaN   \n",
       "3                    NaN                NaN                      NaN   \n",
       "4                    NaN                NaN                      NaN   \n",
       "\n",
       "  originalMetaBriteDescription originalMetaBriteItemPrice  \\\n",
       "0                          NaN                        NaN   \n",
       "1                          NaN                        NaN   \n",
       "2                          NaN                        NaN   \n",
       "3                          NaN                        NaN   \n",
       "4                          NaN                        NaN   \n",
       "\n",
       "   originalMetaBriteQuantityPurchased originalReceiptItemText partnerItemId  \\\n",
       "0                                 NaN                     NaN             1   \n",
       "1                                 NaN                     NaN             1   \n",
       "2                                 NaN                     NaN             2   \n",
       "3                                 NaN                     NaN             1   \n",
       "4                                 NaN                     NaN             1   \n",
       "\n",
       "  pointsEarned               pointsNotAwardedReason             pointsPayerId  \\\n",
       "0          NaN                                  NaN                       NaN   \n",
       "1          NaN                                  NaN                       NaN   \n",
       "2          NaN  Action not allowed for user and CPG  5332f5fbe4b03c9a25efd0ba   \n",
       "3          NaN                                  NaN                       NaN   \n",
       "4          NaN                                  NaN                       NaN   \n",
       "\n",
       "  preventTargetGapPoints priceAfterCoupon  quantityPurchased  \\\n",
       "0                   True              NaN                5.0   \n",
       "1                    NaN              NaN                1.0   \n",
       "2                   True              NaN                1.0   \n",
       "3                   True              NaN                NaN   \n",
       "4                   True              NaN                4.0   \n",
       "\n",
       "                             rewardsGroup   rewardsProductPartnerId  \\\n",
       "0                                     NaN                       NaN   \n",
       "1                                     NaN                       NaN   \n",
       "2  DORITOS SPICY SWEET CHILI SINGLE SERVE  5332f5fbe4b03c9a25efd0ba   \n",
       "3                                     NaN                       NaN   \n",
       "4                                     NaN                       NaN   \n",
       "\n",
       "  targetPrice userFlaggedBarcode  \\\n",
       "0         NaN               4011   \n",
       "1         NaN                NaN   \n",
       "2         NaN       028400642255   \n",
       "3         NaN               4011   \n",
       "4         NaN               4011   \n",
       "\n",
       "                              userFlaggedDescription userFlaggedNewItem  \\\n",
       "0                                                NaN               True   \n",
       "1                                                NaN                NaN   \n",
       "2  DORITOS TORTILLA CHIP SPICY SWEET CHILI REDUCE...               True   \n",
       "3                                                NaN               True   \n",
       "4                                                NaN               True   \n",
       "\n",
       "  userFlaggedPrice  userFlaggedQuantity  \n",
       "0            26.00                  5.0  \n",
       "1              NaN                  NaN  \n",
       "2            10.00                  1.0  \n",
       "3            26.00                  3.0  \n",
       "4            28.00                  4.0  "
      ]
     },
     "execution_count": 240,
     "metadata": {},
     "output_type": "execute_result"
    }
   ],
   "source": [
    "items_df.head()"
   ]
  },
  {
   "cell_type": "markdown",
   "metadata": {},
   "source": [
    "# Question 1: Review Existing Unstructured Data and Diagram a New Structured Relational Data Model\n",
    "     \n",
    "       "
   ]
  },
  {
   "cell_type": "markdown",
   "metadata": {},
   "source": [
    "See **File: data_model.pdf**  \n",
    "\n",
    "I skimmed through the JSON files and noticed that more columns might be needed compared to the provided schema.\n",
    "To avoid manually checking each column, I processed the data in Python first, converting it into a more readable format\n",
    "to efficiently extract columns and their types.  \n"
   ]
  },
  {
   "cell_type": "markdown",
   "metadata": {},
   "source": [
    "# Question2: Write queries that directly answer predetermined questions from a business stakeholder"
   ]
  },
  {
   "cell_type": "markdown",
   "metadata": {},
   "source": [
    "## What are the top 5 brands by receipts scanned for most recent month?"
   ]
  },
  {
   "cell_type": "markdown",
   "metadata": {},
   "source": [
    "### Query Explanation  \n",
    "\n",
    "To answer this question, assuming there is no data quality issue, I need the **dataScanned** from the **receipts** table and **brandcode** from the **items** table.  \n",
    "- **dataScanned** represents the date when the user scanned their receipt, which usually happens after the purchase date.  \n",
    "- **brandcode** is a unique identifier for each brand.  \n",
    "\n",
    "Depending on the request, stakeholders might want **brandName** instead of **brandcode**.\n",
    "In that case, I would need to join the **brand** table with **items** using the **barcode**.\n",
    "However, for this scenario, I will assume that retrieving **brandcode** is sufficient.  "
   ]
  },
  {
   "cell_type": "code",
   "execution_count": 211,
   "metadata": {},
   "outputs": [],
   "source": [
    "query = \"\"\"\n",
    "WITH recent_month AS (\n",
    "  SELECT DATE_FORMAT(DATE_ADD(CURDATE(), INTERVAL -1 MONTH), '%Y-%m-01') AS past_month_first,\n",
    "         DATE_FORMAT(CURDATE(), '%Y-%m-01') AS current_month_first\n",
    ")\n",
    "SELECT i.brandCode, COUNT(DISTINCT(i.receiptId)) AS receipt_count\n",
    "FROM items i\n",
    "JOIN receipts r ON r.receiptId = i.receiptId\n",
    "WHERE r.dataScanned >= (SELECT past_month_first FROM recent_month)\n",
    "AND r.dataScanned < (SELECT current_month_first FROM recent_month)\n",
    "GROUP BY i.brandCode\n",
    "ORDER BY receipt_count DESC\n",
    "LIMIT 5;\n",
    "\"\"\""
   ]
  },
  {
   "cell_type": "markdown",
   "metadata": {},
   "source": [
    "## When considering average spend from receipts with 'rewardsReceiptStatus’ of ‘Accepted’ or ‘Rejected’, which is greater?"
   ]
  },
  {
   "cell_type": "markdown",
   "metadata": {},
   "source": [
    "### Query Explanation\n",
    "\n",
    "To answer this question, I will communicate with stakeholders to define what \"average spend\" means. For this exercise, the definition of **Average Spend** is as follows:\n",
    "\n",
    "- Use the **totalSpent** field from the **receipts** table.\n",
    "- Calculate the simple arithmetic mean: **(total amount spent) / (number of receipts)**.\n",
    "- Exclude **NULL** values to ensure accurate calculations.\n",
    "- Apply constraints to include only **active customers**, excluding **fetch-staff** and other test users.\n"
   ]
  },
  {
   "cell_type": "code",
   "execution_count": 228,
   "metadata": {},
   "outputs": [],
   "source": [
    "query = \"\"\"\n",
    "    SELECT \n",
    "        r.rewardsReceiptStatus,\n",
    "        ROUND(AVG(r.totalSpent), 2) as average_spend\n",
    "    FROM receipts r\n",
    "    JOIN users u ON r.userId = u.userId\n",
    "    WHERE r.rewardsReceiptStatus IN ('Accepted', 'Rejected')\n",
    "        AND r.totalSpent IS NOT NULL\n",
    "        AND u.active = 1 -- True\n",
    "        AND u.role = 'customer'\n",
    "    GROUP BY r.rewardsReceiptStatus\n",
    "    ORDER BY average_spend DESC;\n",
    "\"\"\""
   ]
  },
  {
   "cell_type": "markdown",
   "metadata": {},
   "source": [
    "# Third: Evaluate Data Quality Issues in the Data Provided"
   ]
  },
  {
   "cell_type": "markdown",
   "metadata": {},
   "source": [
    "Before using SQL tables to answer predetermined questions, it is crucial to ensure data quality across all datasets. Poor data quality can lead to inaccurate insights, flawed business decisions, and unreliable reporting. Each table should be checked for duplicates, NULL values, inconsistent formats, and missing or outdated records before performing any analysis.\n",
    "\n",
    "If there are data quality issues, they can create significant problems, especially when joining tables:\n",
    "\n",
    "- **Duplicate Records**: If a table contains duplicate rows, joins can produce inflated results, leading to incorrect aggregations and misleading conclusions.\n",
    "- **NULL or Missing Values**: Missing foreign key values can result in dropped records during INNER JOINs, reducing the completeness of the dataset.\n",
    "- **Inconsistent Data Types or Formats**: Mismatched formats (e.g., different date formats or string inconsistencies) can prevent joins from working correctly, causing data loss or errors."
   ]
  },
  {
   "cell_type": "code",
   "execution_count": 3,
   "metadata": {},
   "outputs": [],
   "source": [
    "\"\"\"Functions for data quality check\"\"\"\n",
    "def convert_timestamp(df, cols):\n",
    "    \"\"\"converts Unix timestamp (milliseconds) to a human-readable datetime format. \"\"\"\n",
    "    for col in cols:\n",
    "        df[col] = df[col].apply(lambda x: pd.to_datetime(x, unit='ms') if pd.notna(x) else x)\n",
    "    return df\n",
    "\n",
    "def check_duplicates(df):\n",
    "    \"\"\"Check for duplicate rows\"\"\"\n",
    "    duplicates = df[df.duplicated()]\n",
    "    \n",
    "    if not duplicates.empty:\n",
    "        print(f\"There are {duplicates.shape[0]} duplicate rows.\")\n",
    "        return duplicates\n",
    "    else:\n",
    "        print(\"No duplicates found\")\n",
    "        return pd.DataFrame()\n",
    "\n",
    "def print_null_counts(df):\n",
    "    \"\"\"Count the number of NaN values per column and print it\"\"\"\n",
    "    null_counts = df.isna().sum()\n",
    "    \n",
    "    print(\"Number of null values in each column:\")\n",
    "    for col, count in null_counts.items():\n",
    "        print(f\"{col}: {count}\")\n",
    "        \n",
    "\n",
    "\"\"\"Functions for plotting\"\"\"\n",
    "def plot_columns_with_max_greater_than_3std(df):\n",
    "    \"\"\"\n",
    "    Plots histograms for columns of type float or int where the maximum value is greater than \n",
    "    3 times the standard deviation.\n",
    "    \"\"\"\n",
    "    # Select only float and int columns\n",
    "    numeric_df = df.select_dtypes(include=['float64', 'int64'])\n",
    "    std_devs = numeric_df.std()\n",
    "    max_values = numeric_df.max()\n",
    "\n",
    "    # Identify columns where the maximum value is greater than 3 std devs\n",
    "    columns_to_plot = max_values[max_values > 3 * std_devs].index\n",
    "\n",
    "    if len(columns_to_plot) == 0:\n",
    "        print(\"No columns meet the condition (max > 3 std).\")\n",
    "        return\n",
    "\n",
    "    # Plot histograms for those columns\n",
    "    plt.figure(figsize=(12, 8))\n",
    "\n",
    "    for i, column in enumerate(columns_to_plot, 1):\n",
    "        filtered_data = numeric_df[column][numeric_df[column] != 0]\n",
    "        \n",
    "        # Only plot if there's data remaining after excluding zeros\n",
    "        if len(filtered_data) > 0:\n",
    "            plt.subplot(2, len(columns_to_plot) // 2 + 1, i)\n",
    "            sns.histplot(filtered_data, kde=True, bins=100) \n",
    "            plt.title(f'Distribution of {column}')\n",
    "\n",
    "    plt.tight_layout()\n",
    "    plt.show()"
   ]
  },
  {
   "cell_type": "markdown",
   "metadata": {},
   "source": [
    "## Check tables one by one:"
   ]
  },
  {
   "cell_type": "markdown",
   "metadata": {},
   "source": [
    "## check users_df "
   ]
  },
  {
   "cell_type": "code",
   "execution_count": 268,
   "metadata": {},
   "outputs": [],
   "source": [
    "# The previous users_df has an unreable timestamp format, so let's conver it correctly\n",
    "users_df =convert_timestamp(users_df,  ['createdDate', 'lastLoginDate'])"
   ]
  },
  {
   "cell_type": "code",
   "execution_count": 296,
   "metadata": {},
   "outputs": [
    {
     "data": {
      "text/html": [
       "<div>\n",
       "<style scoped>\n",
       "    .dataframe tbody tr th:only-of-type {\n",
       "        vertical-align: middle;\n",
       "    }\n",
       "\n",
       "    .dataframe tbody tr th {\n",
       "        vertical-align: top;\n",
       "    }\n",
       "\n",
       "    .dataframe thead th {\n",
       "        text-align: right;\n",
       "    }\n",
       "</style>\n",
       "<table border=\"1\" class=\"dataframe\">\n",
       "  <thead>\n",
       "    <tr style=\"text-align: right;\">\n",
       "      <th></th>\n",
       "      <th>userId</th>\n",
       "      <th>active</th>\n",
       "      <th>createdDate</th>\n",
       "      <th>lastLoginDate</th>\n",
       "      <th>role</th>\n",
       "      <th>signUpSource</th>\n",
       "      <th>state</th>\n",
       "    </tr>\n",
       "  </thead>\n",
       "  <tbody>\n",
       "    <tr>\n",
       "      <th>0</th>\n",
       "      <td>5ff1e194b6a9d73a3a9f1052</td>\n",
       "      <td>True</td>\n",
       "      <td>2021-01-03 15:24:04.800</td>\n",
       "      <td>2021-01-03 15:25:37.858</td>\n",
       "      <td>consumer</td>\n",
       "      <td>Email</td>\n",
       "      <td>WI</td>\n",
       "    </tr>\n",
       "    <tr>\n",
       "      <th>1</th>\n",
       "      <td>5ff1e194b6a9d73a3a9f1052</td>\n",
       "      <td>True</td>\n",
       "      <td>2021-01-03 15:24:04.800</td>\n",
       "      <td>2021-01-03 15:25:37.858</td>\n",
       "      <td>consumer</td>\n",
       "      <td>Email</td>\n",
       "      <td>WI</td>\n",
       "    </tr>\n",
       "    <tr>\n",
       "      <th>2</th>\n",
       "      <td>5ff1e194b6a9d73a3a9f1052</td>\n",
       "      <td>True</td>\n",
       "      <td>2021-01-03 15:24:04.800</td>\n",
       "      <td>2021-01-03 15:25:37.858</td>\n",
       "      <td>consumer</td>\n",
       "      <td>Email</td>\n",
       "      <td>WI</td>\n",
       "    </tr>\n",
       "    <tr>\n",
       "      <th>3</th>\n",
       "      <td>5ff1e1eacfcf6c399c274ae6</td>\n",
       "      <td>True</td>\n",
       "      <td>2021-01-03 15:25:30.554</td>\n",
       "      <td>2021-01-03 15:25:30.597</td>\n",
       "      <td>consumer</td>\n",
       "      <td>Email</td>\n",
       "      <td>WI</td>\n",
       "    </tr>\n",
       "    <tr>\n",
       "      <th>4</th>\n",
       "      <td>5ff1e194b6a9d73a3a9f1052</td>\n",
       "      <td>True</td>\n",
       "      <td>2021-01-03 15:24:04.800</td>\n",
       "      <td>2021-01-03 15:25:37.858</td>\n",
       "      <td>consumer</td>\n",
       "      <td>Email</td>\n",
       "      <td>WI</td>\n",
       "    </tr>\n",
       "  </tbody>\n",
       "</table>\n",
       "</div>"
      ],
      "text/plain": [
       "                     userId  active             createdDate  \\\n",
       "0  5ff1e194b6a9d73a3a9f1052    True 2021-01-03 15:24:04.800   \n",
       "1  5ff1e194b6a9d73a3a9f1052    True 2021-01-03 15:24:04.800   \n",
       "2  5ff1e194b6a9d73a3a9f1052    True 2021-01-03 15:24:04.800   \n",
       "3  5ff1e1eacfcf6c399c274ae6    True 2021-01-03 15:25:30.554   \n",
       "4  5ff1e194b6a9d73a3a9f1052    True 2021-01-03 15:24:04.800   \n",
       "\n",
       "            lastLoginDate      role signUpSource state  \n",
       "0 2021-01-03 15:25:37.858  consumer        Email    WI  \n",
       "1 2021-01-03 15:25:37.858  consumer        Email    WI  \n",
       "2 2021-01-03 15:25:37.858  consumer        Email    WI  \n",
       "3 2021-01-03 15:25:30.597  consumer        Email    WI  \n",
       "4 2021-01-03 15:25:37.858  consumer        Email    WI  "
      ]
     },
     "execution_count": 296,
     "metadata": {},
     "output_type": "execute_result"
    }
   ],
   "source": [
    "users_df.head()"
   ]
  },
  {
   "cell_type": "code",
   "execution_count": 298,
   "metadata": {},
   "outputs": [
    {
     "name": "stdout",
     "output_type": "stream",
     "text": [
      "There are 283 duplicate rows.\n"
     ]
    }
   ],
   "source": [
    "user_duplicates_df = check_duplicates(users_df)"
   ]
  },
  {
   "cell_type": "code",
   "execution_count": 310,
   "metadata": {},
   "outputs": [
    {
     "data": {
      "text/html": [
       "<div>\n",
       "<style scoped>\n",
       "    .dataframe tbody tr th:only-of-type {\n",
       "        vertical-align: middle;\n",
       "    }\n",
       "\n",
       "    .dataframe tbody tr th {\n",
       "        vertical-align: top;\n",
       "    }\n",
       "\n",
       "    .dataframe thead th {\n",
       "        text-align: right;\n",
       "    }\n",
       "</style>\n",
       "<table border=\"1\" class=\"dataframe\">\n",
       "  <thead>\n",
       "    <tr style=\"text-align: right;\">\n",
       "      <th></th>\n",
       "      <th>userId</th>\n",
       "      <th>active</th>\n",
       "      <th>createdDate</th>\n",
       "      <th>lastLoginDate</th>\n",
       "      <th>role</th>\n",
       "      <th>signUpSource</th>\n",
       "      <th>state</th>\n",
       "    </tr>\n",
       "  </thead>\n",
       "  <tbody>\n",
       "    <tr>\n",
       "      <th>1</th>\n",
       "      <td>5ff1e194b6a9d73a3a9f1052</td>\n",
       "      <td>True</td>\n",
       "      <td>2021-01-03 15:24:04.800</td>\n",
       "      <td>2021-01-03 15:25:37.858</td>\n",
       "      <td>consumer</td>\n",
       "      <td>Email</td>\n",
       "      <td>WI</td>\n",
       "    </tr>\n",
       "    <tr>\n",
       "      <th>2</th>\n",
       "      <td>5ff1e194b6a9d73a3a9f1052</td>\n",
       "      <td>True</td>\n",
       "      <td>2021-01-03 15:24:04.800</td>\n",
       "      <td>2021-01-03 15:25:37.858</td>\n",
       "      <td>consumer</td>\n",
       "      <td>Email</td>\n",
       "      <td>WI</td>\n",
       "    </tr>\n",
       "    <tr>\n",
       "      <th>4</th>\n",
       "      <td>5ff1e194b6a9d73a3a9f1052</td>\n",
       "      <td>True</td>\n",
       "      <td>2021-01-03 15:24:04.800</td>\n",
       "      <td>2021-01-03 15:25:37.858</td>\n",
       "      <td>consumer</td>\n",
       "      <td>Email</td>\n",
       "      <td>WI</td>\n",
       "    </tr>\n",
       "    <tr>\n",
       "      <th>5</th>\n",
       "      <td>5ff1e194b6a9d73a3a9f1052</td>\n",
       "      <td>True</td>\n",
       "      <td>2021-01-03 15:24:04.800</td>\n",
       "      <td>2021-01-03 15:25:37.858</td>\n",
       "      <td>consumer</td>\n",
       "      <td>Email</td>\n",
       "      <td>WI</td>\n",
       "    </tr>\n",
       "    <tr>\n",
       "      <th>8</th>\n",
       "      <td>5ff1e194b6a9d73a3a9f1052</td>\n",
       "      <td>True</td>\n",
       "      <td>2021-01-03 15:24:04.800</td>\n",
       "      <td>2021-01-03 15:25:37.858</td>\n",
       "      <td>consumer</td>\n",
       "      <td>Email</td>\n",
       "      <td>WI</td>\n",
       "    </tr>\n",
       "  </tbody>\n",
       "</table>\n",
       "</div>"
      ],
      "text/plain": [
       "                     userId  active             createdDate  \\\n",
       "1  5ff1e194b6a9d73a3a9f1052    True 2021-01-03 15:24:04.800   \n",
       "2  5ff1e194b6a9d73a3a9f1052    True 2021-01-03 15:24:04.800   \n",
       "4  5ff1e194b6a9d73a3a9f1052    True 2021-01-03 15:24:04.800   \n",
       "5  5ff1e194b6a9d73a3a9f1052    True 2021-01-03 15:24:04.800   \n",
       "8  5ff1e194b6a9d73a3a9f1052    True 2021-01-03 15:24:04.800   \n",
       "\n",
       "            lastLoginDate      role signUpSource state  \n",
       "1 2021-01-03 15:25:37.858  consumer        Email    WI  \n",
       "2 2021-01-03 15:25:37.858  consumer        Email    WI  \n",
       "4 2021-01-03 15:25:37.858  consumer        Email    WI  \n",
       "5 2021-01-03 15:25:37.858  consumer        Email    WI  \n",
       "8 2021-01-03 15:25:37.858  consumer        Email    WI  "
      ]
     },
     "execution_count": 310,
     "metadata": {},
     "output_type": "execute_result"
    }
   ],
   "source": [
    "user_duplicates_df.head()"
   ]
  },
  {
   "cell_type": "markdown",
   "metadata": {},
   "source": [
    "These exact duplicates should be deleted to maintain data integrity. Additionally, we need to:\n",
    "\n",
    "- Understand why duplicates exist in the data.\n",
    "- Investigate the upstream processes to identify what caused the duplication."
   ]
  },
  {
   "cell_type": "code",
   "execution_count": 346,
   "metadata": {},
   "outputs": [
    {
     "name": "stdout",
     "output_type": "stream",
     "text": [
      "Number of null values in each column:\n",
      "userId: 0\n",
      "active: 0\n",
      "createdDate: 0\n",
      "lastLoginDate: 0\n",
      "role: 0\n",
      "signUpSource: 39\n",
      "state: 41\n"
     ]
    }
   ],
   "source": [
    "print_null_counts(users_df[users_df['role'] == 'fetch-staff'])"
   ]
  },
  {
   "cell_type": "code",
   "execution_count": 348,
   "metadata": {},
   "outputs": [
    {
     "name": "stdout",
     "output_type": "stream",
     "text": [
      "Number of null values in each column:\n",
      "userId: 0\n",
      "active: 0\n",
      "createdDate: 0\n",
      "lastLoginDate: 62\n",
      "role: 0\n",
      "signUpSource: 9\n",
      "state: 15\n"
     ]
    }
   ],
   "source": [
    "print_null_counts(users_df[users_df['role'] == 'consumer'])"
   ]
  },
  {
   "cell_type": "markdown",
   "metadata": {},
   "source": [
    "These **NULL** values make sense to me for several reasons:\n",
    "\n",
    "- A **user** or **staff** member can register an account without logging in, which would result in missing values for some fields.\n",
    "- The process might stop after account creation or could be incomplete, depending on how you define the **created date**. If the process isn't fully completed, certain fields might be left as NULL.\n",
    "- **Signup source** and **state** can also be NULL if the app's privacy settings are disabled, which prevents the collection of the user's location and signup source.\n",
    "\n",
    "We should consider these factors when interpreting the NULL values and ensure we account for any potential gaps in the data collection process."
   ]
  },
  {
   "cell_type": "markdown",
   "metadata": {},
   "source": [
    "## check brands_df"
   ]
  },
  {
   "cell_type": "code",
   "execution_count": 488,
   "metadata": {},
   "outputs": [],
   "source": [
    "# I assume the test brand is still onboarding so we don't need to look at them\n",
    "brands_filtered_df = brands_df[~brands_df['brandName'].str.startswith('test')]"
   ]
  },
  {
   "cell_type": "code",
   "execution_count": 490,
   "metadata": {},
   "outputs": [
    {
     "data": {
      "text/html": [
       "<div>\n",
       "<style scoped>\n",
       "    .dataframe tbody tr th:only-of-type {\n",
       "        vertical-align: middle;\n",
       "    }\n",
       "\n",
       "    .dataframe tbody tr th {\n",
       "        vertical-align: top;\n",
       "    }\n",
       "\n",
       "    .dataframe thead th {\n",
       "        text-align: right;\n",
       "    }\n",
       "</style>\n",
       "<table border=\"1\" class=\"dataframe\">\n",
       "  <thead>\n",
       "    <tr style=\"text-align: right;\">\n",
       "      <th></th>\n",
       "      <th>brandId</th>\n",
       "      <th>barcode</th>\n",
       "      <th>brandCode</th>\n",
       "      <th>brandName</th>\n",
       "      <th>category</th>\n",
       "      <th>categoryCode</th>\n",
       "      <th>cpgOid</th>\n",
       "      <th>cpgRef</th>\n",
       "      <th>topBrand</th>\n",
       "    </tr>\n",
       "  </thead>\n",
       "  <tbody>\n",
       "    <tr>\n",
       "      <th>1</th>\n",
       "      <td>601c5460be37ce2ead43755f</td>\n",
       "      <td>511111519928</td>\n",
       "      <td>STARBUCKS</td>\n",
       "      <td>Starbucks</td>\n",
       "      <td>Beverages</td>\n",
       "      <td>BEVERAGES</td>\n",
       "      <td>5332f5fbe4b03c9a25efd0ba</td>\n",
       "      <td>Cogs</td>\n",
       "      <td>False</td>\n",
       "    </tr>\n",
       "    <tr>\n",
       "      <th>7</th>\n",
       "      <td>5cdad0f5166eb33eb7ce0faa</td>\n",
       "      <td>511111104810</td>\n",
       "      <td>J.L. KRAFT</td>\n",
       "      <td>J.L. Kraft</td>\n",
       "      <td>Condiments &amp; Sauces</td>\n",
       "      <td>NaN</td>\n",
       "      <td>559c2234e4b06aca36af13c6</td>\n",
       "      <td>Cogs</td>\n",
       "      <td>NaN</td>\n",
       "    </tr>\n",
       "    <tr>\n",
       "      <th>8</th>\n",
       "      <td>5ab15636e4b0be0a89bb0b07</td>\n",
       "      <td>511111504412</td>\n",
       "      <td>CAMPBELLS HOME STYLE</td>\n",
       "      <td>Campbell's Home Style</td>\n",
       "      <td>Canned Goods &amp; Soups</td>\n",
       "      <td>NaN</td>\n",
       "      <td>5a734034e4b0d58f376be874</td>\n",
       "      <td>Cogs</td>\n",
       "      <td>False</td>\n",
       "    </tr>\n",
       "    <tr>\n",
       "      <th>11</th>\n",
       "      <td>57c08106e4b0718ff5fcb02c</td>\n",
       "      <td>511111102540</td>\n",
       "      <td>NaN</td>\n",
       "      <td>MorningStar</td>\n",
       "      <td>NaN</td>\n",
       "      <td>NaN</td>\n",
       "      <td>5332f5f2e4b03c9a25efd0aa</td>\n",
       "      <td>Cpgs</td>\n",
       "      <td>NaN</td>\n",
       "    </tr>\n",
       "    <tr>\n",
       "      <th>12</th>\n",
       "      <td>588ba07be4b02187f85cdadd</td>\n",
       "      <td>511111201076</td>\n",
       "      <td>CALUMET</td>\n",
       "      <td>Calumet</td>\n",
       "      <td>Baking</td>\n",
       "      <td>NaN</td>\n",
       "      <td>559c2234e4b06aca36af13c6</td>\n",
       "      <td>Cogs</td>\n",
       "      <td>False</td>\n",
       "    </tr>\n",
       "  </tbody>\n",
       "</table>\n",
       "</div>"
      ],
      "text/plain": [
       "                     brandId       barcode             brandCode  \\\n",
       "1   601c5460be37ce2ead43755f  511111519928             STARBUCKS   \n",
       "7   5cdad0f5166eb33eb7ce0faa  511111104810            J.L. KRAFT   \n",
       "8   5ab15636e4b0be0a89bb0b07  511111504412  CAMPBELLS HOME STYLE   \n",
       "11  57c08106e4b0718ff5fcb02c  511111102540                   NaN   \n",
       "12  588ba07be4b02187f85cdadd  511111201076               CALUMET   \n",
       "\n",
       "                brandName              category categoryCode  \\\n",
       "1               Starbucks             Beverages    BEVERAGES   \n",
       "7              J.L. Kraft   Condiments & Sauces          NaN   \n",
       "8   Campbell's Home Style  Canned Goods & Soups          NaN   \n",
       "11            MorningStar                   NaN          NaN   \n",
       "12                Calumet                Baking          NaN   \n",
       "\n",
       "                      cpgOid cpgRef topBrand  \n",
       "1   5332f5fbe4b03c9a25efd0ba   Cogs    False  \n",
       "7   559c2234e4b06aca36af13c6   Cogs      NaN  \n",
       "8   5a734034e4b0d58f376be874   Cogs    False  \n",
       "11  5332f5f2e4b03c9a25efd0aa   Cpgs      NaN  \n",
       "12  559c2234e4b06aca36af13c6   Cogs    False  "
      ]
     },
     "execution_count": 490,
     "metadata": {},
     "output_type": "execute_result"
    }
   ],
   "source": [
    "brands_filtered_df.head()"
   ]
  },
  {
   "cell_type": "code",
   "execution_count": 492,
   "metadata": {},
   "outputs": [
    {
     "name": "stdout",
     "output_type": "stream",
     "text": [
      "No duplicates found\n"
     ]
    }
   ],
   "source": [
    "brands_duplicates_df = check_duplicates(brands_filtered_df)"
   ]
  },
  {
   "cell_type": "code",
   "execution_count": 494,
   "metadata": {},
   "outputs": [
    {
     "name": "stdout",
     "output_type": "stream",
     "text": [
      "Number of null values in each column:\n",
      "brandId: 0\n",
      "barcode: 0\n",
      "brandCode: 163\n",
      "brandName: 0\n",
      "category: 155\n",
      "categoryCode: 649\n",
      "cpgOid: 0\n",
      "cpgRef: 0\n",
      "topBrand: 407\n"
     ]
    }
   ],
   "source": [
    "print_null_counts(brands_filtered_df)"
   ]
  },
  {
   "cell_type": "code",
   "execution_count": 496,
   "metadata": {},
   "outputs": [
    {
     "data": {
      "image/png": "[encoded data removed]",
      "text/plain": [
       "<Figure size 800x600 with 1 Axes>"
      ]
     },
     "metadata": {},
     "output_type": "display_data"
    }
   ],
   "source": [
    "missing_categoryCode_by_category = brands_filtered_df[brands_filtered_df['categoryCode'].isnull()]['category'].value_counts()\n",
    "\n",
    "# Plot the missing data distribution\n",
    "plt.figure(figsize=(8, 6))\n",
    "sns.barplot(x=missing_categoryCode_by_category.index, y=missing_categoryCode_by_category.values, palette='rocket')\n",
    "plt.title('Missing categoryCode by Category')\n",
    "plt.xlabel('Category')\n",
    "plt.ylabel('Count of Missing categoryCode')\n",
    "plt.xticks(rotation=90)\n",
    "plt.show()"
   ]
  },
  {
   "cell_type": "code",
   "execution_count": 523,
   "metadata": {},
   "outputs": [
    {
     "name": "stdout",
     "output_type": "stream",
     "text": [
      "Beverages 1\n",
      "Condiments & Sauces 0\n",
      "Canned Goods & Soups 0\n",
      "nan 0\n",
      "Baking 2\n",
      "Magazines 1\n",
      "Breakfast & Cereal 0\n",
      "Beer Wine Spirits 31\n",
      "Health & Wellness 14\n",
      "Beauty 0\n",
      "Baby 7\n",
      "Frozen 1\n",
      "Grocery 11\n",
      "Snacks 0\n",
      "Household 0\n",
      "Personal Care 4\n",
      "Dairy 0\n",
      "Cleaning & Home Improvement 6\n",
      "Deli 0\n",
      "Beauty & Personal Care 0\n",
      "Bread & Bakery 5\n",
      "Outdoor 1\n",
      "Dairy & Refrigerated 5\n"
     ]
    }
   ],
   "source": [
    "# This prints out existing number of mapping between category and categoryCode \n",
    "for each in brands_filtered_df['category'].unique().tolist():\n",
    "    temp_df =brands_filtered_df[(brands_filtered_df['category'] == each) & (~brands_filtered_df['categoryCode'].isnull())]\n",
    "    print(each, temp_df.shape[0])"
   ]
  },
  {
   "cell_type": "markdown",
   "metadata": {},
   "source": [
    "It's suprising to see we have exisiting mapping for most category but the data records were still missing based on the bar chart. "
   ]
  },
  {
   "cell_type": "markdown",
   "metadata": {},
   "source": [
    "### Key Points:\n",
    "\n",
    "1. **Excluding Placeholder Entries**: Entries such as `\"Test Brand\"` should be flagged or excluded from the dataset to avoid misleading conclusions. These entries are often used for testing or are incomplete.\n",
    "  \n",
    "2. **Improving Taxonomy Mapping**: The relationship between `categoryCode`, `categoryName`, and `brandName` should be clarified and made more consistent to ensure accurate data classification. Snacks category doesn't have any mapping and we should create one.\n",
    "\n",
    "3. **Use of Existing Mappings**: Since we've identified a mapping for the `categoryCode` of Beverages, it is possible to use this mapping to fill in missing `categoryCode` entries for the entire Beverages if categoryCode only depends on category. The 60 missing rows shows inconsistency on how we create this label.\n",
    "\n",
    "\n"
   ]
  },
  {
   "cell_type": "markdown",
   "metadata": {},
   "source": [
    "## check receipts_df"
   ]
  },
  {
   "cell_type": "code",
   "execution_count": 581,
   "metadata": {},
   "outputs": [],
   "source": [
    "# convert datatype \n",
    "receipts_df =convert_timestamp(receipts_df,  ['createDate',\t'dateScanned', 'finishedDate',\t'modifyDate', 'pointsAwardedDate',\t'purchaseDate'])\n",
    "receipts_df['totalSpent'] = receipts_df['totalSpent'].astype(np.float64)\n",
    "receipts_df['pointsEarned'] = receipts_df['pointsEarned'].astype(np.float64)"
   ]
  },
  {
   "cell_type": "code",
   "execution_count": 583,
   "metadata": {},
   "outputs": [
    {
     "data": {
      "text/plain": [
       "receiptId                          object\n",
       "bonusPointsEarned                 float64\n",
       "bonusPointsEarnedReason            object\n",
       "createDate                 datetime64[ns]\n",
       "dateScanned                datetime64[ns]\n",
       "finishedDate               datetime64[ns]\n",
       "modifyDate                 datetime64[ns]\n",
       "pointsAwardedDate          datetime64[ns]\n",
       "pointsEarned                      float64\n",
       "purchaseDate               datetime64[ns]\n",
       "purchasedItemCount                float64\n",
       "rewardsReceiptItemList             object\n",
       "rewardsReceiptStatus               object\n",
       "totalSpent                        float64\n",
       "userId                             object\n",
       "dtype: object"
      ]
     },
     "execution_count": 583,
     "metadata": {},
     "output_type": "execute_result"
    }
   ],
   "source": [
    "receipts_df.dtypes"
   ]
  },
  {
   "cell_type": "code",
   "execution_count": 585,
   "metadata": {},
   "outputs": [],
   "source": [
    "# don't need it here\n",
    "del receipts_df['rewardsReceiptItemList']"
   ]
  },
  {
   "cell_type": "code",
   "execution_count": 587,
   "metadata": {},
   "outputs": [
    {
     "name": "stdout",
     "output_type": "stream",
     "text": [
      "No duplicates found\n"
     ]
    }
   ],
   "source": [
    "receipts_duplicates_df = check_duplicates(receipts_df)"
   ]
  },
  {
   "cell_type": "code",
   "execution_count": 589,
   "metadata": {},
   "outputs": [
    {
     "data": {
      "text/plain": [
       "(1119, 14)"
      ]
     },
     "execution_count": 589,
     "metadata": {},
     "output_type": "execute_result"
    }
   ],
   "source": [
    "receipts_df.shape"
   ]
  },
  {
   "cell_type": "code",
   "execution_count": 591,
   "metadata": {},
   "outputs": [
    {
     "name": "stdout",
     "output_type": "stream",
     "text": [
      "Number of null values in each column:\n",
      "receiptId: 0\n",
      "bonusPointsEarned: 575\n",
      "bonusPointsEarnedReason: 575\n",
      "createDate: 0\n",
      "dateScanned: 0\n",
      "finishedDate: 551\n",
      "modifyDate: 0\n",
      "pointsAwardedDate: 582\n",
      "pointsEarned: 510\n",
      "purchaseDate: 448\n",
      "purchasedItemCount: 484\n",
      "rewardsReceiptStatus: 0\n",
      "totalSpent: 435\n",
      "userId: 0\n"
     ]
    }
   ],
   "source": [
    "print_null_counts(receipts_df)"
   ]
  },
  {
   "cell_type": "code",
   "execution_count": 613,
   "metadata": {},
   "outputs": [
    {
     "data": {
      "image/png": "[encoded data removed]",
      "text/plain": [
       "<Figure size 1200x800 with 3 Axes>"
      ]
     },
     "metadata": {},
     "output_type": "display_data"
    }
   ],
   "source": [
    "plot_columns_with_max_greater_than_3std(receipts_df)"
   ]
  },
  {
   "cell_type": "markdown",
   "metadata": {},
   "source": [
    "### Analysis of Highly Skewed Numeric Columns  \n",
    "\n",
    "With zero included, these columns are **highly skewed**. This means **most receipts are empty and show no actions**, which is probably expected.  \n",
    "\n",
    "So, I **removed zeros** in my analysis. Now, the skew is **less**, but I can still see that:  \n",
    "- **Points Earned**: Some receipts have **10,000+ points**.  \n",
    "- **Item Count**: Some receipts contain **700+ items**.  \n",
    "- **Total Spend**: Some receipts show spending of **$4,000+.**  \n",
    "\n",
    "These extreme values might indicate:  \n",
    "- A **small number of users** with very high spending. \n",
    "- Possible **data entry errors** or **special case transactions** (e.g., bulk purchases).  \n",
    "- The need for **further investigation** to determine if these values are valid or anomalies.  \n"
   ]
  },
  {
   "cell_type": "markdown",
   "metadata": {},
   "source": [
    "## check items_df"
   ]
  },
  {
   "cell_type": "code",
   "execution_count": 622,
   "metadata": {},
   "outputs": [
    {
     "name": "stdout",
     "output_type": "stream",
     "text": [
      "No duplicates found\n"
     ]
    }
   ],
   "source": [
    "items_duplicates_df = check_duplicates(items_df)"
   ]
  },
  {
   "cell_type": "code",
   "execution_count": 626,
   "metadata": {},
   "outputs": [
    {
     "data": {
      "text/plain": [
       "(6941, 35)"
      ]
     },
     "execution_count": 626,
     "metadata": {},
     "output_type": "execute_result"
    }
   ],
   "source": [
    "items_df.shape"
   ]
  },
  {
   "cell_type": "code",
   "execution_count": 624,
   "metadata": {},
   "outputs": [
    {
     "name": "stdout",
     "output_type": "stream",
     "text": [
      "Number of null values in each column:\n",
      "receiptId: 0\n",
      "barcode: 3851\n",
      "brandCode: 4341\n",
      "competitiveProduct: 6296\n",
      "competitorRewardsGroup: 6666\n",
      "deleted: 6932\n",
      "description: 381\n",
      "discountedItemPrice: 1172\n",
      "finalPrice: 174\n",
      "itemNumber: 6788\n",
      "itemPrice: 174\n",
      "metabriteCampaignId: 6078\n",
      "needsFetchReview: 6128\n",
      "needsFetchReviewReason: 6722\n",
      "originalFinalPrice: 6932\n",
      "originalMetaBriteBarcode: 6870\n",
      "originalMetaBriteDescription: 6931\n",
      "originalMetaBriteItemPrice: 6932\n",
      "originalMetaBriteQuantityPurchased: 6926\n",
      "originalReceiptItemText: 1181\n",
      "partnerItemId: 0\n",
      "pointsEarned: 6014\n",
      "pointsNotAwardedReason: 6601\n",
      "pointsPayerId: 5674\n",
      "preventTargetGapPoints: 6583\n",
      "priceAfterCoupon: 5985\n",
      "quantityPurchased: 174\n",
      "rewardsGroup: 5210\n",
      "rewardsProductPartnerId: 4672\n",
      "targetPrice: 6563\n",
      "userFlaggedBarcode: 6604\n",
      "userFlaggedDescription: 6736\n",
      "userFlaggedNewItem: 6618\n",
      "userFlaggedPrice: 6642\n",
      "userFlaggedQuantity: 6642\n"
     ]
    }
   ],
   "source": [
    "print_null_counts(items_df)"
   ]
  },
  {
   "cell_type": "markdown",
   "metadata": {},
   "source": [
    "This dataset contains a **high percentage of missing values**, with some columns missing over **95% of data**. Key observations include:  \n",
    "\n",
    "- **Relevance Check:** Some columns (e.g., `originalMetaBriteBarcode`, `originalMetaBriteItemPrice`) might be **legacy fields** and could be dropped if they are no longer useful.   \n",
    "- **Imputation Strategy:** Numeric missing fields can be filled with 0, while categorical fields can be labeled as `\"Unknown\"` if appropriate.  "
   ]
  },
  {
   "cell_type": "markdown",
   "metadata": {},
   "source": [
    "# Question 4: Communicate with Stakeholders"
   ]
  },
  {
   "cell_type": "markdown",
   "metadata": {},
   "source": [
    "# Data Quality Investigation: Findings and Questions\n",
    "\n",
    "Hi team,\n",
    "\n",
    "I've completed an initial analysis of our data tables and wanted to share both my findings and some critical questions that emerged during the investigation.\n",
    "\n",
    "My Investigation Process:  \n",
    "I discovered these data quality issues through exploratory analysis - examining value distributions, checking for duplicates, identifying test accounts, and analyzing NULL patterns. The duplicate records became apparent during deduplication checks, while the outliers emerged from statistical analysis.\n",
    "\n",
    "Key Questions About the Data:  \n",
    "* What's causing duplicate records in our upstream processes? I'm seeing exact duplicates in our users table that suggest a possible processing or ingestion issue. To resolve these issues, I'll need access to documentation on the upstream data collection processes to better understand how the data is being captured.\n",
    "* Are the extreme values legitimate? Some receipts show 700+ items or $4,000+ in spending - I need to understand if these represent real bulk purchases or data issues. It would also be helpful to have business rules defining valid ranges for key fields like points, item counts, and spending. \n",
    "* Why do we maintain fields with >95% missing values for our reward item list? Understanding the historical context of legacy fields and their current usage will allow me to determine whether they should still be included in our analysis.\n",
    "* Do we have a standardized taxonomy mapping? There are inconsistencies in how categoryCode, categoryName, and brandName align. For example, the Snacks category lacks mappings entirely, while Beverages has only a single mapped row with the rest missing. We should evaluate whether existing mappings can be leveraged to fill in these gaps where applicable.\n",
    "\n",
    "As we scale, handling duplicates will get more complicated, and a clear criteria for distinguishing between valid transactions and test transactions would help me clean up the dataset and ensure I'm working with accurate information. Optimizing queries for historical data is also becoming trickier. So it might be worth considering a switch to NoSQL, as it could help with better scalability and performance, especially when working with large, unstructured JSON data.\n",
    "\n",
    "I’d love to discuss these points in more detail and align on next steps. Let me know a good time to sync or if you have any initial thoughts!\n",
    "\n",
    "Thanks,  \n",
    "Yusha Wang"
   ]
  },
  {
   "cell_type": "code",
   "execution_count": null,
   "metadata": {},
   "outputs": [],
   "source": []
  }
 ],
 "metadata": {
  "kernelspec": {
   "display_name": "Python [conda env:base] *",
   "language": "python",
   "name": "conda-base-py"
  },
  "language_info": {
   "codemirror_mode": {
    "name": "ipython",
    "version": 3
   },
   "file_extension": ".py",
   "mimetype": "text/x-python",
   "name": "python",
   "nbconvert_exporter": "python",
   "pygments_lexer": "ipython3",
   "version": "3.12.7"
  }
 },
 "nbformat": 4,
 "nbformat_minor": 4
}
